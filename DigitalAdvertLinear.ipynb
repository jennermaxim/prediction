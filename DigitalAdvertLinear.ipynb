{
 "cells": [
  {
   "cell_type": "code",
   "execution_count": 1,
   "metadata": {},
   "outputs": [],
   "source": [
    "import pandas as pd\n",
    "import numpy as np"
   ]
  },
  {
   "cell_type": "code",
   "execution_count": 2,
   "metadata": {},
   "outputs": [],
   "source": [
    "dataset = pd.read_excel(\"DigitalAd_dataset.xlsx\")"
   ]
  },
  {
   "cell_type": "code",
   "execution_count": 4,
   "metadata": {},
   "outputs": [
    {
     "name": "stdout",
     "output_type": "stream",
     "text": [
      "(400, 3)\n",
      "   Age  Salary  Status\n",
      "0   18   82000       0\n",
      "1   29   80000       0\n",
      "2   47   25000       1\n",
      "3   45   26000       1\n",
      "4   46   28000       1\n"
     ]
    }
   ],
   "source": [
    "print(dataset.shape)\n",
    "print(dataset.head(5))"
   ]
  },
  {
   "cell_type": "code",
   "execution_count": 6,
   "metadata": {},
   "outputs": [],
   "source": [
    "x = dataset.iloc[:, :-1].values\n",
    "y = dataset.iloc[:, -1].values"
   ]
  },
  {
   "cell_type": "code",
   "execution_count": 7,
   "metadata": {},
   "outputs": [],
   "source": [
    "from sklearn.model_selection import train_test_split\n",
    "x_train, x_test, y_train, y_test = train_test_split(x, y, test_size=0.25, random_state=0)"
   ]
  },
  {
   "cell_type": "code",
   "execution_count": 10,
   "metadata": {},
   "outputs": [],
   "source": [
    "from sklearn.preprocessing import StandardScaler\n",
    "sc = StandardScaler()\n",
    "x_train = sc.fit_transform(x_train)\n",
    "x_test = sc.fit_transform(x_test)"
   ]
  },
  {
   "cell_type": "code",
   "execution_count": 11,
   "metadata": {},
   "outputs": [
    {
     "data": {
      "text/html": [
       "<style>#sk-container-id-2 {color: black;}#sk-container-id-2 pre{padding: 0;}#sk-container-id-2 div.sk-toggleable {background-color: white;}#sk-container-id-2 label.sk-toggleable__label {cursor: pointer;display: block;width: 100%;margin-bottom: 0;padding: 0.3em;box-sizing: border-box;text-align: center;}#sk-container-id-2 label.sk-toggleable__label-arrow:before {content: \"▸\";float: left;margin-right: 0.25em;color: #696969;}#sk-container-id-2 label.sk-toggleable__label-arrow:hover:before {color: black;}#sk-container-id-2 div.sk-estimator:hover label.sk-toggleable__label-arrow:before {color: black;}#sk-container-id-2 div.sk-toggleable__content {max-height: 0;max-width: 0;overflow: hidden;text-align: left;background-color: #f0f8ff;}#sk-container-id-2 div.sk-toggleable__content pre {margin: 0.2em;color: black;border-radius: 0.25em;background-color: #f0f8ff;}#sk-container-id-2 input.sk-toggleable__control:checked~div.sk-toggleable__content {max-height: 200px;max-width: 100%;overflow: auto;}#sk-container-id-2 input.sk-toggleable__control:checked~label.sk-toggleable__label-arrow:before {content: \"▾\";}#sk-container-id-2 div.sk-estimator input.sk-toggleable__control:checked~label.sk-toggleable__label {background-color: #d4ebff;}#sk-container-id-2 div.sk-label input.sk-toggleable__control:checked~label.sk-toggleable__label {background-color: #d4ebff;}#sk-container-id-2 input.sk-hidden--visually {border: 0;clip: rect(1px 1px 1px 1px);clip: rect(1px, 1px, 1px, 1px);height: 1px;margin: -1px;overflow: hidden;padding: 0;position: absolute;width: 1px;}#sk-container-id-2 div.sk-estimator {font-family: monospace;background-color: #f0f8ff;border: 1px dotted black;border-radius: 0.25em;box-sizing: border-box;margin-bottom: 0.5em;}#sk-container-id-2 div.sk-estimator:hover {background-color: #d4ebff;}#sk-container-id-2 div.sk-parallel-item::after {content: \"\";width: 100%;border-bottom: 1px solid gray;flex-grow: 1;}#sk-container-id-2 div.sk-label:hover label.sk-toggleable__label {background-color: #d4ebff;}#sk-container-id-2 div.sk-serial::before {content: \"\";position: absolute;border-left: 1px solid gray;box-sizing: border-box;top: 0;bottom: 0;left: 50%;z-index: 0;}#sk-container-id-2 div.sk-serial {display: flex;flex-direction: column;align-items: center;background-color: white;padding-right: 0.2em;padding-left: 0.2em;position: relative;}#sk-container-id-2 div.sk-item {position: relative;z-index: 1;}#sk-container-id-2 div.sk-parallel {display: flex;align-items: stretch;justify-content: center;background-color: white;position: relative;}#sk-container-id-2 div.sk-item::before, #sk-container-id-2 div.sk-parallel-item::before {content: \"\";position: absolute;border-left: 1px solid gray;box-sizing: border-box;top: 0;bottom: 0;left: 50%;z-index: -1;}#sk-container-id-2 div.sk-parallel-item {display: flex;flex-direction: column;z-index: 1;position: relative;background-color: white;}#sk-container-id-2 div.sk-parallel-item:first-child::after {align-self: flex-end;width: 50%;}#sk-container-id-2 div.sk-parallel-item:last-child::after {align-self: flex-start;width: 50%;}#sk-container-id-2 div.sk-parallel-item:only-child::after {width: 0;}#sk-container-id-2 div.sk-dashed-wrapped {border: 1px dashed gray;margin: 0 0.4em 0.5em 0.4em;box-sizing: border-box;padding-bottom: 0.4em;background-color: white;}#sk-container-id-2 div.sk-label label {font-family: monospace;font-weight: bold;display: inline-block;line-height: 1.2em;}#sk-container-id-2 div.sk-label-container {text-align: center;}#sk-container-id-2 div.sk-container {/* jupyter's `normalize.less` sets `[hidden] { display: none; }` but bootstrap.min.css set `[hidden] { display: none !important; }` so we also need the `!important` here to be able to override the default hidden behavior on the sphinx rendered scikit-learn.org. See: https://github.com/scikit-learn/scikit-learn/issues/21755 */display: inline-block !important;position: relative;}#sk-container-id-2 div.sk-text-repr-fallback {display: none;}</style><div id=\"sk-container-id-2\" class=\"sk-top-container\"><div class=\"sk-text-repr-fallback\"><pre>LinearRegression()</pre><b>In a Jupyter environment, please rerun this cell to show the HTML representation or trust the notebook. <br />On GitHub, the HTML representation is unable to render, please try loading this page with nbviewer.org.</b></div><div class=\"sk-container\" hidden><div class=\"sk-item\"><div class=\"sk-estimator sk-toggleable\"><input class=\"sk-toggleable__control sk-hidden--visually\" id=\"sk-estimator-id-2\" type=\"checkbox\" checked><label for=\"sk-estimator-id-2\" class=\"sk-toggleable__label sk-toggleable__label-arrow\">LinearRegression</label><div class=\"sk-toggleable__content\"><pre>LinearRegression()</pre></div></div></div></div></div>"
      ],
      "text/plain": [
       "LinearRegression()"
      ]
     },
     "execution_count": 11,
     "metadata": {},
     "output_type": "execute_result"
    }
   ],
   "source": [
    "from sklearn.linear_model import LinearRegression\n",
    "model = LinearRegression()\n",
    "model.fit(x_train, y_train)"
   ]
  },
  {
   "cell_type": "code",
   "execution_count": 13,
   "metadata": {},
   "outputs": [
    {
     "name": "stdout",
     "output_type": "stream",
     "text": [
      "[1.42919986]\n",
      "New Customer won't Buy\n"
     ]
    }
   ],
   "source": [
    "age = int(input(\"Enter New Customer Age: \"))\n",
    "sal = int(input(\"Enter New Customer Salary: \"))\n",
    "newCust = [[age, sal]]\n",
    "result = model.predict(sc.transform(newCust))\n",
    "print(result)\n",
    "if result == 1:\n",
    "    print(\"New Customer will Buy\")\n",
    "else:\n",
    "    print(\"New Customer won't Buy\")"
   ]
  },
  {
   "cell_type": "code",
   "execution_count": 15,
   "metadata": {},
   "outputs": [
    {
     "name": "stdout",
     "output_type": "stream",
     "text": [
      "[[ 0.22779873  1.        ]\n",
      " [ 0.45334597  1.        ]\n",
      " [ 0.76579477  1.        ]\n",
      " [ 0.74378047  1.        ]\n",
      " [ 0.34075327  0.        ]\n",
      " [ 0.00741076  0.        ]\n",
      " [ 0.06131424  0.        ]\n",
      " [ 0.868104    1.        ]\n",
      " [-0.03036137  0.        ]\n",
      " [ 0.44160345  0.        ]\n",
      " [-0.22216348  0.        ]\n",
      " [ 0.12292156  0.        ]\n",
      " [-0.07840528  0.        ]\n",
      " [ 0.51678587  1.        ]\n",
      " [ 0.46911549  1.        ]\n",
      " [ 0.45003097  0.        ]\n",
      " [ 0.79401879  1.        ]\n",
      " [ 0.33159039  0.        ]\n",
      " [ 0.50137819  0.        ]\n",
      " [ 0.25714334  0.        ]\n",
      " [ 0.10128078  0.        ]\n",
      " [ 0.35909073  1.        ]\n",
      " [ 0.08954995  0.        ]\n",
      " [ 0.43720293  1.        ]\n",
      " [-0.02926416  0.        ]\n",
      " [ 0.50394614  0.        ]\n",
      " [-0.15321416  0.        ]\n",
      " [-0.0171598   0.        ]\n",
      " [ 0.73425574  1.        ]\n",
      " [ 0.33195223  0.        ]\n",
      " [ 0.21680327  0.        ]\n",
      " [ 0.24394177  0.        ]\n",
      " [ 0.43903551  0.        ]\n",
      " [ 1.07345782  1.        ]\n",
      " [-0.14441312  0.        ]\n",
      " [ 0.0389381   0.        ]\n",
      " [-0.29880494  0.        ]\n",
      " [ 0.13319334  0.        ]\n",
      " [-0.08317933  0.        ]\n",
      " [ 0.00741076  0.        ]\n",
      " [ 0.52594875  0.        ]\n",
      " [ 1.20071114  1.        ]\n",
      " [ 0.34443012  1.        ]\n",
      " [ 0.20653149  0.        ]\n",
      " [ 0.52264544  1.        ]\n",
      " [-0.04027131  0.        ]\n",
      " [ 0.44637751  1.        ]\n",
      " [ 0.3931977   0.        ]\n",
      " [ 0.30003967  0.        ]\n",
      " [ 1.07932909  1.        ]\n",
      " [ 0.66015885  1.        ]\n",
      " [-0.08720632  0.        ]\n",
      " [ 0.57654892  1.        ]\n",
      " [ 0.19406529  0.        ]\n",
      " [ 0.25274282  0.        ]\n",
      " [ 0.45994091  0.        ]\n",
      " [-0.18475319  0.        ]\n",
      " [ 0.3734012   1.        ]\n",
      " [-0.11984256  0.        ]\n",
      " [ 0.4430625   0.        ]\n",
      " [ 0.13722033  0.        ]\n",
      " [ 0.32388655  0.        ]\n",
      " [ 0.39540381  1.        ]\n",
      " [ 0.38806181  0.        ]\n",
      " [ 0.5035843   0.        ]\n",
      " [ 0.78192612  1.        ]\n",
      " [ 0.52227191  1.        ]\n",
      " [ 0.44894545  1.        ]\n",
      " [ 0.50576702  1.        ]\n",
      " [ 0.89779876  1.        ]\n",
      " [ 0.51238535  1.        ]\n",
      " [ 0.65687891  1.        ]\n",
      " [-0.15101975  0.        ]\n",
      " [ 0.20139559  0.        ]\n",
      " [ 0.36789178  0.        ]\n",
      " [ 0.04371215  0.        ]\n",
      " [ 0.40713464  0.        ]\n",
      " [ 0.38843534  1.        ]\n",
      " [ 0.4130059   1.        ]\n",
      " [ 0.52118639  1.        ]\n",
      " [ 0.57288376  1.        ]\n",
      " [ 0.21276459  0.        ]\n",
      " [ 0.20286633  0.        ]\n",
      " [ 0.35652279  0.        ]\n",
      " [ 0.44783655  0.        ]\n",
      " [ 0.97554912  1.        ]\n",
      " [-0.0058025   0.        ]\n",
      " [ 0.41263237  0.        ]\n",
      " [ 0.287947    0.        ]\n",
      " [ 0.63705902  1.        ]\n",
      " [ 0.3598261   0.        ]\n",
      " [ 0.37669282  0.        ]\n",
      " [ 0.10824925  0.        ]\n",
      " [ 0.50175172  1.        ]\n",
      " [ 1.01148867  1.        ]\n",
      " [ 0.36825361  1.        ]\n",
      " [-0.04100668  0.        ]\n",
      " [-0.05677619  0.        ]\n",
      " [ 0.58683239  1.        ]\n",
      " [ 0.53218185  1.        ]]\n"
     ]
    }
   ],
   "source": [
    "y_pred = model.predict(x_test)\n",
    "print(np.concatenate((y_pred.reshape(len(y_pred), 1), y_test.reshape(len(y_test), 1)), 1))"
   ]
  },
  {
   "cell_type": "code",
   "execution_count": 19,
   "metadata": {},
   "outputs": [
    {
     "name": "stdout",
     "output_type": "stream",
     "text": [
      "Mean squared error:  0.127870429902112\n"
     ]
    }
   ],
   "source": [
    "from sklearn.metrics import mean_squared_error\n",
    "mse = mean_squared_error(y_test, y_pred)\n",
    "print(\"Mean squared error: \", mse)"
   ]
  },
  {
   "cell_type": "code",
   "execution_count": 20,
   "metadata": {},
   "outputs": [
    {
     "name": "stdout",
     "output_type": "stream",
     "text": [
      "R-squared:  0.4625034472378645\n"
     ]
    }
   ],
   "source": [
    "from sklearn.metrics import r2_score\n",
    "r2 = r2_score(y_test, y_pred)\n",
    "print(\"R-squared: \", r2)"
   ]
  },
  {
   "cell_type": "code",
   "execution_count": 23,
   "metadata": {},
   "outputs": [
    {
     "name": "stdout",
     "output_type": "stream",
     "text": [
      "Accuracy of the Model: 83.0%\n"
     ]
    }
   ],
   "source": [
    "rd = np.round(y_pred)\n",
    "ac = np.sum(rd == y_test) / len(y_test)\n",
    "print(\"Accuracy of the Model: {0}%\".format(ac * 100))"
   ]
  }
 ],
 "metadata": {
  "kernelspec": {
   "display_name": "Python 3",
   "language": "python",
   "name": "python3"
  },
  "language_info": {
   "codemirror_mode": {
    "name": "ipython",
    "version": 3
   },
   "file_extension": ".py",
   "mimetype": "text/x-python",
   "name": "python",
   "nbconvert_exporter": "python",
   "pygments_lexer": "ipython3",
   "version": "3.11.6"
  }
 },
 "nbformat": 4,
 "nbformat_minor": 2
}
